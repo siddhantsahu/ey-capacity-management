{
 "cells": [
  {
   "cell_type": "markdown",
   "metadata": {
    "slideshow": {
     "slide_type": "-"
    }
   },
   "source": [
    "# AI in Capacity Management Demo\n",
    "\n",
    "Team - Siddhant Sahu"
   ]
  },
  {
   "cell_type": "code",
   "execution_count": null,
   "metadata": {},
   "outputs": [],
   "source": [
    "%load_ext nb_black\n",
    "%load_ext autoreload\n",
    "%autoreload 2"
   ]
  },
  {
   "cell_type": "code",
   "execution_count": null,
   "metadata": {},
   "outputs": [],
   "source": [
    "import pandas as pd\n",
    "import seaborn as sns\n",
    "\n",
    "import ipywidgets as widgets\n",
    "from ipywidgets import interact, interact_manual\n",
    "\n",
    "from search import parse_demand, get_weight\n",
    "from retrieval import Retrieval"
   ]
  },
  {
   "cell_type": "markdown",
   "metadata": {},
   "source": [
    "### Input 1 - Demand Data\n",
    "\n",
    "Demand data stored in a csv file."
   ]
  },
  {
   "cell_type": "code",
   "execution_count": null,
   "metadata": {},
   "outputs": [],
   "source": [
    "demand_data = pd.read_csv(\"../data/demand.csv\", sep=\"\\t\").fillna(\"\")\n",
    "demand_data"
   ]
  },
  {
   "cell_type": "markdown",
   "metadata": {},
   "source": [
    "### Input 2 - Weights for Search Factors\n",
    "\n",
    "Weight factors also stored in a csv file."
   ]
  },
  {
   "cell_type": "code",
   "execution_count": null,
   "metadata": {},
   "outputs": [],
   "source": [
    "weights_data = pd.read_csv(\"../data/weights.csv\", sep=\"\\t\")\n",
    "weights_data"
   ]
  },
  {
   "cell_type": "markdown",
   "metadata": {},
   "source": [
    "### Interactive Demo\n",
    "\n",
    "Check results when different combinations of demand + weight data are selected."
   ]
  },
  {
   "cell_type": "code",
   "execution_count": null,
   "metadata": {},
   "outputs": [],
   "source": [
    "# select the dataset here\n",
    "dataset = \"sample\"  # or \"sample\"\n",
    "\n",
    "if dataset == \"mock\":\n",
    "    emp_meta_csv = \"../data/emp_meta_mock.csv\"\n",
    "    emp_skills_csv = \"../data/emp_skills_mock.csv\"\n",
    "elif dataset == \"sample\":\n",
    "    emp_meta_csv = \"../data/emp_meta.csv\"\n",
    "    emp_skills_csv = \"../data/emp_skills.csv\"\n",
    "\n",
    "obj = Retrieval(emp_skills_csv, emp_meta_csv)"
   ]
  },
  {
   "cell_type": "code",
   "execution_count": null,
   "metadata": {
    "scrolled": false
   },
   "outputs": [],
   "source": [
    "@interact\n",
    "def show_search_results(\n",
    "    requestor=[f\"Req_{i}\" for i in range(1, 8)],\n",
    "    criteria=[f\"Criteria{i}\" for i in range(1, 4)],\n",
    "    sort_by_dept=False,\n",
    "):\n",
    "    demand_idx = int(requestor.replace(\"Req_\", \"\")) - 1\n",
    "    weight_idx = int(criteria.replace(\"Criteria\", \"\")) - 1\n",
    "    demand = parse_demand(\"../data/demand.csv\", demand_idx)\n",
    "    weight = get_weight(\"../data/weights.csv\", weight_idx)\n",
    "    res = obj.get_results(demand, weight, sort_by_dept).rename(\n",
    "        columns={\"years_of_experience\": \"experience\"}\n",
    "    )\n",
    "    cm = sns.light_palette(\"green\", as_cmap=True)\n",
    "    return (\n",
    "        res.style.background_gradient(cmap=cm, subset=[\"fitment\"])\n",
    "        .format(\n",
    "            {\n",
    "                \"fitment\": \"{:.1%}\",\n",
    "                \"technical\": \"{:.0f}\",\n",
    "                \"functional\": \"{:.0f}\",\n",
    "                \"process\": \"{:.0f}\",\n",
    "            }\n",
    "        )\n",
    "        .hide_index()\n",
    "        .hide_columns(\"dept_similarity\")\n",
    "    )"
   ]
  },
  {
   "cell_type": "markdown",
   "metadata": {},
   "source": [
    "### Explanation\n",
    "\n",
    "* When `sort_by_dept` is checked, the results will be sorted by department first, fitment scores next.\n",
    "* When unchecked, the results will be sorted by fitment scores, without considering department of the employee."
   ]
  }
 ],
 "metadata": {
  "hide_input": false,
  "kernelspec": {
   "display_name": "Python 3",
   "language": "python",
   "name": "python3"
  },
  "language_info": {
   "codemirror_mode": {
    "name": "ipython",
    "version": 3
   },
   "file_extension": ".py",
   "mimetype": "text/x-python",
   "name": "python",
   "nbconvert_exporter": "python",
   "pygments_lexer": "ipython3",
   "version": "3.6.10"
  }
 },
 "nbformat": 4,
 "nbformat_minor": 4
}
