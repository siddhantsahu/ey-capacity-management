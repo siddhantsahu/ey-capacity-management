{
 "cells": [
  {
   "cell_type": "code",
   "execution_count": null,
   "metadata": {},
   "outputs": [],
   "source": [
    "%load_ext nb_black\n",
    "%load_ext autoreload\n",
    "%autoreload 2"
   ]
  },
  {
   "cell_type": "markdown",
   "metadata": {},
   "source": [
    "Set up interactive controls to use the interactive demo in this notebook. [Setup instructions here](https://towardsdatascience.com/interactive-controls-for-jupyter-notebooks-f5c94829aee6)"
   ]
  },
  {
   "cell_type": "code",
   "execution_count": null,
   "metadata": {},
   "outputs": [],
   "source": [
    "import pandas as pd\n",
    "import seaborn as sns\n",
    "\n",
    "import ipywidgets as widgets\n",
    "from ipywidgets import interact, interact_manual\n",
    "\n",
    "from search import parse_demand, get_weight\n",
    "from retrieval import Retrieval"
   ]
  },
  {
   "cell_type": "markdown",
   "metadata": {},
   "source": [
    "### Input fields\n",
    "\n",
    "* Demand data - coming from csv\n",
    "* Weights data - coming from csv"
   ]
  },
  {
   "cell_type": "code",
   "execution_count": null,
   "metadata": {},
   "outputs": [],
   "source": [
    "demand_data = pd.read_csv(\"../data/demand.csv\", sep=\"\\t\")\n",
    "demand_data"
   ]
  },
  {
   "cell_type": "code",
   "execution_count": null,
   "metadata": {},
   "outputs": [],
   "source": [
    "weights_data = pd.read_csv(\"../data/weights.csv\", sep=\"\\t\")\n",
    "weights_data"
   ]
  },
  {
   "cell_type": "markdown",
   "metadata": {},
   "source": [
    "### Interactive Demo\n",
    "\n",
    "We will use the above input files to demo the search functionality."
   ]
  },
  {
   "cell_type": "code",
   "execution_count": null,
   "metadata": {},
   "outputs": [],
   "source": [
    "@interact\n",
    "def show_search_results(demand_idx=range(7), weight_idx=range(3), sort_by_dept=False):\n",
    "    obj = Retrieval()\n",
    "    demand = parse_demand(\"../data/demand.csv\", demand_idx)\n",
    "    weight = get_weight(\"../data/weights.csv\", weight_idx)\n",
    "    res = obj.get_results(demand, weight, sort_by_dept).rename(\n",
    "        columns={\"years_of_experience\": \"experience\"}\n",
    "    )\n",
    "    cm = sns.light_palette(\"green\", as_cmap=True)\n",
    "    return (\n",
    "        res.style.background_gradient(cmap=cm, subset=[\"fitment\"])\n",
    "        .format(\n",
    "            {\n",
    "                \"fitment\": \"{:.1%}\",\n",
    "                \"technical\": \"{:.0f}\",\n",
    "                \"functional\": \"{:.0f}\",\n",
    "                \"process\": \"{:.0f}\",\n",
    "            }\n",
    "        )\n",
    "        .hide_index()\n",
    "        .hide_columns(\"dept_similarity\")\n",
    "    )"
   ]
  }
 ],
 "metadata": {
  "kernelspec": {
   "display_name": "Python 3",
   "language": "python",
   "name": "python3"
  },
  "language_info": {
   "codemirror_mode": {
    "name": "ipython",
    "version": 3
   },
   "file_extension": ".py",
   "mimetype": "text/x-python",
   "name": "python",
   "nbconvert_exporter": "python",
   "pygments_lexer": "ipython3",
   "version": "3.6.10"
  }
 },
 "nbformat": 4,
 "nbformat_minor": 4
}
